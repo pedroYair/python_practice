{
 "cells": [
  {
   "cell_type": "code",
   "execution_count": 1,
   "id": "a3770fb6",
   "metadata": {},
   "outputs": [
    {
     "name": "stdout",
     "output_type": "stream",
     "text": [
      "Requirement already satisfied: opencv-python in /home/lsv/Documentos/ambientes/templatemat/lib/python3.8/site-packages (4.5.3.56)\n",
      "Requirement already satisfied: numpy>=1.17.3 in /home/lsv/Documentos/ambientes/templatemat/lib/python3.8/site-packages (from opencv-python) (1.21.1)\n",
      "\u001b[33mWARNING: You are using pip version 21.1.3; however, version 21.2.2 is available.\n",
      "You should consider upgrading via the '/home/lsv/Documentos/ambientes/templatemat/bin/python -m pip install --upgrade pip' command.\u001b[0m\n",
      "Note: you may need to restart the kernel to use updated packages.\n"
     ]
    }
   ],
   "source": [
    "pip install opencv-python"
   ]
  },
  {
   "cell_type": "code",
   "execution_count": 2,
   "id": "67601c80",
   "metadata": {},
   "outputs": [],
   "source": [
    "import cv2\n",
    "import numpy as np"
   ]
  },
  {
   "cell_type": "code",
   "execution_count": 3,
   "id": "1cd31ee3",
   "metadata": {},
   "outputs": [],
   "source": [
    "# carga de la imagen template\n",
    "img_total = cv2.imread(\"total.png\")\n",
    "\n",
    "# carga de la imagen a buscar\n",
    "img_template = cv2.imread(\"imagen.png\")"
   ]
  },
  {
   "cell_type": "code",
   "execution_count": 4,
   "id": "2c647486",
   "metadata": {},
   "outputs": [],
   "source": [
    "# pasamos las imagenes a escala de grises\n",
    "img_gray = cv2.cvtColor(img_total, cv2.COLOR_BGR2GRAY)\n",
    "template_gray = cv2.cvtColor(img_template, cv2.COLOR_BGR2GRAY)"
   ]
  },
  {
   "cell_type": "code",
   "execution_count": 5,
   "id": "cdde1be8",
   "metadata": {},
   "outputs": [],
   "source": [
    "# aplicamos template matching usando el algoritmo TM_CCOEFF de CV2\n",
    "res = cv2.matchTemplate(img_gray, template_gray,cv2.TM_CCOEFF)\n",
    "\n",
    "# obtenemos el valor minimo y maximo local (y sus posiciones x, y) que corresponderan a la coincidencia de la imagen buscada\n",
    "min_val, max_val, min_loc, max_loc = cv2.minMaxLoc(res)"
   ]
  },
  {
   "cell_type": "code",
   "execution_count": 6,
   "id": "01532d1d",
   "metadata": {},
   "outputs": [],
   "source": [
    "# creamos parejas x, y para resaltar el area de emparejamiento\n",
    "x1,y1 = max_loc\n",
    "x2,y2 = max_loc[0] + img_template.shape[1], max_loc[1] + img_template.shape[0]"
   ]
  },
  {
   "cell_type": "code",
   "execution_count": null,
   "id": "f6e8d7f8",
   "metadata": {},
   "outputs": [],
   "source": [
    "# usando las parejas x, y creadas, ubicamos un rectangulo sobre el area de la coincidencia\n",
    "cv2.rectangle(img_total,(x1, y1),(x2, y2),(224, 227, 23), 3)\n",
    "cv2.imshow(\"Imagen\", img_total)\n",
    "cv2.imshow(\"Imagen buscada\", img_template)\n",
    "cv2.waitKey(0)\n",
    "cv2.destroyAllWindows()"
   ]
  },
  {
   "cell_type": "code",
   "execution_count": null,
   "id": "c33d05cf",
   "metadata": {},
   "outputs": [],
   "source": []
  }
 ],
 "metadata": {
  "kernelspec": {
   "display_name": "Python 3 (ipykernel)",
   "language": "python",
   "name": "python3"
  },
  "language_info": {
   "codemirror_mode": {
    "name": "ipython",
    "version": 3
   },
   "file_extension": ".py",
   "mimetype": "text/x-python",
   "name": "python",
   "nbconvert_exporter": "python",
   "pygments_lexer": "ipython3",
   "version": "3.8.10"
  }
 },
 "nbformat": 4,
 "nbformat_minor": 5
}
